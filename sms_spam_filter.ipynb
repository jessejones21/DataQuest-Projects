{
 "cells": [
  {
   "cell_type": "markdown",
   "metadata": {},
   "source": [
    "# Detecting Spam SMS Messages with the Naive Bayes Algorithm\n",
    "\n",
    "In this guided project, we're going to use the Naive Bayes algorithm to build a spam filter for SMS messages. To classify messages as spam or non-spam, the computer:\n",
    "* Learns how humans classify messages\n",
    "* Uses that human knowledge to estimate probabilities for new messages — probabilities for spam and non-spam\n",
    "* Classifies a new message based on these probability values — if the probability for spam is greater, then it classifies the message as spam. Otherwise, it classifies it as non-spam (if the two probability values are equal, then we may need a human to classify the message)\n",
    "\n",
    "The dataset we'll use to both train and test the algorithm consists of 5,572 SMS messages that are already classified by humans. The dataset was put together by Tiago A. Almeida and José María Gómez Hidalgo, and it can be downloaded directly from this link: [here](https://dq-content.s3.amazonaws.com/433/SMSSpamCollection). Additional information on the dataset can be found [here](https://archive.ics.uci.edu/ml/datasets/sms+spam+collection)"
   ]
  },
  {
   "cell_type": "code",
   "execution_count": 1,
   "metadata": {},
   "outputs": [],
   "source": [
    "import pandas as pd\n",
    "import re\n",
    "import warnings\n",
    "warnings.filterwarnings('ignore')"
   ]
  },
  {
   "cell_type": "markdown",
   "metadata": {},
   "source": [
    "## Data Exploration"
   ]
  },
  {
   "cell_type": "code",
   "execution_count": 2,
   "metadata": {
    "scrolled": true
   },
   "outputs": [
    {
     "data": {
      "text/html": [
       "<div>\n",
       "<style scoped>\n",
       "    .dataframe tbody tr th:only-of-type {\n",
       "        vertical-align: middle;\n",
       "    }\n",
       "\n",
       "    .dataframe tbody tr th {\n",
       "        vertical-align: top;\n",
       "    }\n",
       "\n",
       "    .dataframe thead th {\n",
       "        text-align: right;\n",
       "    }\n",
       "</style>\n",
       "<table border=\"1\" class=\"dataframe\">\n",
       "  <thead>\n",
       "    <tr style=\"text-align: right;\">\n",
       "      <th></th>\n",
       "      <th>Label</th>\n",
       "      <th>SMS</th>\n",
       "    </tr>\n",
       "  </thead>\n",
       "  <tbody>\n",
       "    <tr>\n",
       "      <th>0</th>\n",
       "      <td>ham</td>\n",
       "      <td>Go until jurong point, crazy.. Available only ...</td>\n",
       "    </tr>\n",
       "    <tr>\n",
       "      <th>1</th>\n",
       "      <td>ham</td>\n",
       "      <td>Ok lar... Joking wif u oni...</td>\n",
       "    </tr>\n",
       "    <tr>\n",
       "      <th>2</th>\n",
       "      <td>spam</td>\n",
       "      <td>Free entry in 2 a wkly comp to win FA Cup fina...</td>\n",
       "    </tr>\n",
       "    <tr>\n",
       "      <th>3</th>\n",
       "      <td>ham</td>\n",
       "      <td>U dun say so early hor... U c already then say...</td>\n",
       "    </tr>\n",
       "    <tr>\n",
       "      <th>4</th>\n",
       "      <td>ham</td>\n",
       "      <td>Nah I don't think he goes to usf, he lives aro...</td>\n",
       "    </tr>\n",
       "  </tbody>\n",
       "</table>\n",
       "</div>"
      ],
      "text/plain": [
       "  Label                                                SMS\n",
       "0   ham  Go until jurong point, crazy.. Available only ...\n",
       "1   ham                      Ok lar... Joking wif u oni...\n",
       "2  spam  Free entry in 2 a wkly comp to win FA Cup fina...\n",
       "3   ham  U dun say so early hor... U c already then say...\n",
       "4   ham  Nah I don't think he goes to usf, he lives aro..."
      ]
     },
     "execution_count": 2,
     "metadata": {},
     "output_type": "execute_result"
    }
   ],
   "source": [
    "spam = pd.read_csv('SMSSpamCollection', sep='\\t', header=None, names=['Label','SMS'])\n",
    "spam.head()"
   ]
  },
  {
   "cell_type": "code",
   "execution_count": 3,
   "metadata": {},
   "outputs": [
    {
     "data": {
      "text/plain": [
       "ham     0.865937\n",
       "spam    0.134063\n",
       "Name: Label, dtype: float64"
      ]
     },
     "execution_count": 3,
     "metadata": {},
     "output_type": "execute_result"
    }
   ],
   "source": [
    "# check percentage of spam/not spam texts\n",
    "spam['Label'].value_counts(normalize=True)"
   ]
  },
  {
   "cell_type": "markdown",
   "metadata": {},
   "source": [
    "Our dataset is fairly simple. There's two columns, one that indicates whether the message is spam or not (*ham = not spam*) and the other column has the actual text message. 87% of messages in our dataset are not spam and 13% are spam."
   ]
  },
  {
   "cell_type": "markdown",
   "metadata": {},
   "source": [
    "## Defining Our Goal\n",
    "Our goal is for the spam filter to classify new messages with an accuracy greater than 80%. Before creating the spam filter, we want to define how we'll test the accuracy. In order to do this, we'll need to split the data into training and test data. The training data will be used to teach the computer how to classify messages, and the test data we'll be used to test our filter once it's complete.\n",
    "* The training set will have 4,458 messages (about 80% of the dataset)\n",
    "* The test set will have 1,114 messages (about 20% of the dataset)  \n",
    "\n",
    "It's important we have 'new' data that the filter hasn't seen before to have a fair test. All of our data has already been classified by a human so we'll be able to compare the results of our filter to how the texts were classified by a human for testing.\n",
    "\n",
    "### Splitting the Data\n",
    "We'll randomize the data, then we'll split it into Training and Test data as specified above."
   ]
  },
  {
   "cell_type": "code",
   "execution_count": 4,
   "metadata": {},
   "outputs": [],
   "source": [
    "# randomize data\n",
    "randomized = spam.sample(frac=1, random_state=1)\n",
    "# split data\n",
    "training_set = randomized[:4458]\n",
    "test_set = randomized[4458:]\n",
    "# reset index on new dataframes\n",
    "training_set.reset_index(drop=True, inplace=True)\n",
    "test_set.reset_index(drop=True, inplace=True)"
   ]
  },
  {
   "cell_type": "markdown",
   "metadata": {},
   "source": [
    "Below we confirm that the percentages of spam and non-spam texts in our Traning and Test datasets are similar to our original dataset."
   ]
  },
  {
   "cell_type": "code",
   "execution_count": 5,
   "metadata": {},
   "outputs": [
    {
     "name": "stdout",
     "output_type": "stream",
     "text": [
      "ham     0.86541\n",
      "spam    0.13459\n",
      "Name: Label, dtype: float64\n",
      "ham     0.868043\n",
      "spam    0.131957\n",
      "Name: Label, dtype: float64\n"
     ]
    }
   ],
   "source": [
    "# checking percentage of ham / spam texts in new datasets\n",
    "print(training_set['Label'].value_counts(normalize=True))\n",
    "print(test_set['Label'].value_counts(normalize=True))"
   ]
  },
  {
   "cell_type": "markdown",
   "metadata": {},
   "source": [
    "## Transforming Training Dataset\n",
    "In order to calculate the probabilities for the Naive Bayes algorithm, we want to change the structure of our data that willl alow us to more easily extract the information we need. This is what the data transformation will look like:\n",
    "* All words in the vocabulary (unique words from all text messages in our dataset) will be converted to lowercase for matching purposes\n",
    "* Punctuation will be removed from the messages\n",
    "* Replace the SMS column by a series of new columns, where each column represents a unique word from the vocabulary\n",
    "* Each row will describe a single text message. It will indicate whether the text was spam or not and it will have a number in each of the unique word columns representing how many times that word appears in the text string."
   ]
  },
  {
   "cell_type": "code",
   "execution_count": 6,
   "metadata": {},
   "outputs": [],
   "source": [
    "# remove punctuation from text messages, convert to lower case, split string into list of words\n",
    "training_set['SMS'] = training_set['SMS'].str.replace('\\W', ' ').str.lower().str.split()"
   ]
  },
  {
   "cell_type": "code",
   "execution_count": 7,
   "metadata": {},
   "outputs": [],
   "source": [
    "# create list of all words from text messages\n",
    "vocabulary = []\n",
    "for sms in training_set['SMS']:\n",
    "    for word in sms:\n",
    "        vocabulary.append(word)\n",
    "# convert vocabulary list to set to remove duplicates        \n",
    "vset = set(vocabulary)\n",
    "# convert set back to list\n",
    "vocabulary = list(vset)"
   ]
  },
  {
   "cell_type": "markdown",
   "metadata": {},
   "source": [
    "Now that we have a list of all the unique words we want to create our new DataFrame. First, we'll create a dictionary where each key is a unique word (a string) from the vocabulary, and each value is a list of the length of the training set, where each element in the list is a 0. Then, we'll loop over <code>training_set['SMS']</code> to get the index and SMS message. Finally, we increment <code>word_counts_per_sms[word][index]</code> by 1 for all words in every SMS message."
   ]
  },
  {
   "cell_type": "code",
   "execution_count": 8,
   "metadata": {},
   "outputs": [],
   "source": [
    "# create dictionary\n",
    "word_counts_per_sms = {unique_word: [0] * len(training_set['SMS']) for unique_word in vocabulary}\n",
    "# count number of each word in SMS messages\n",
    "for index, sms in enumerate(training_set['SMS']):\n",
    "    for word in sms:\n",
    "        word_counts_per_sms[word][index] += 1"
   ]
  },
  {
   "cell_type": "code",
   "execution_count": 9,
   "metadata": {
    "scrolled": true
   },
   "outputs": [
    {
     "data": {
      "text/html": [
       "<div>\n",
       "<style scoped>\n",
       "    .dataframe tbody tr th:only-of-type {\n",
       "        vertical-align: middle;\n",
       "    }\n",
       "\n",
       "    .dataframe tbody tr th {\n",
       "        vertical-align: top;\n",
       "    }\n",
       "\n",
       "    .dataframe thead th {\n",
       "        text-align: right;\n",
       "    }\n",
       "</style>\n",
       "<table border=\"1\" class=\"dataframe\">\n",
       "  <thead>\n",
       "    <tr style=\"text-align: right;\">\n",
       "      <th></th>\n",
       "      <th>cantdo</th>\n",
       "      <th>nichols</th>\n",
       "      <th>own</th>\n",
       "      <th>categories</th>\n",
       "      <th>shd</th>\n",
       "      <th>2price</th>\n",
       "      <th>concentration</th>\n",
       "      <th>bx</th>\n",
       "      <th>alert</th>\n",
       "      <th>sufficient</th>\n",
       "      <th>...</th>\n",
       "      <th>offering</th>\n",
       "      <th>psychiatrist</th>\n",
       "      <th>missin</th>\n",
       "      <th>wait</th>\n",
       "      <th>7am</th>\n",
       "      <th>mag</th>\n",
       "      <th>zaher</th>\n",
       "      <th>sway</th>\n",
       "      <th>68866</th>\n",
       "      <th>hallaq</th>\n",
       "    </tr>\n",
       "  </thead>\n",
       "  <tbody>\n",
       "    <tr>\n",
       "      <th>0</th>\n",
       "      <td>0</td>\n",
       "      <td>0</td>\n",
       "      <td>0</td>\n",
       "      <td>0</td>\n",
       "      <td>0</td>\n",
       "      <td>0</td>\n",
       "      <td>0</td>\n",
       "      <td>0</td>\n",
       "      <td>0</td>\n",
       "      <td>0</td>\n",
       "      <td>...</td>\n",
       "      <td>0</td>\n",
       "      <td>0</td>\n",
       "      <td>0</td>\n",
       "      <td>0</td>\n",
       "      <td>0</td>\n",
       "      <td>0</td>\n",
       "      <td>0</td>\n",
       "      <td>0</td>\n",
       "      <td>0</td>\n",
       "      <td>0</td>\n",
       "    </tr>\n",
       "    <tr>\n",
       "      <th>1</th>\n",
       "      <td>0</td>\n",
       "      <td>0</td>\n",
       "      <td>0</td>\n",
       "      <td>0</td>\n",
       "      <td>0</td>\n",
       "      <td>0</td>\n",
       "      <td>0</td>\n",
       "      <td>0</td>\n",
       "      <td>0</td>\n",
       "      <td>0</td>\n",
       "      <td>...</td>\n",
       "      <td>0</td>\n",
       "      <td>0</td>\n",
       "      <td>0</td>\n",
       "      <td>0</td>\n",
       "      <td>0</td>\n",
       "      <td>0</td>\n",
       "      <td>0</td>\n",
       "      <td>0</td>\n",
       "      <td>0</td>\n",
       "      <td>0</td>\n",
       "    </tr>\n",
       "    <tr>\n",
       "      <th>2</th>\n",
       "      <td>0</td>\n",
       "      <td>0</td>\n",
       "      <td>0</td>\n",
       "      <td>0</td>\n",
       "      <td>0</td>\n",
       "      <td>0</td>\n",
       "      <td>0</td>\n",
       "      <td>0</td>\n",
       "      <td>0</td>\n",
       "      <td>0</td>\n",
       "      <td>...</td>\n",
       "      <td>0</td>\n",
       "      <td>0</td>\n",
       "      <td>0</td>\n",
       "      <td>0</td>\n",
       "      <td>0</td>\n",
       "      <td>0</td>\n",
       "      <td>0</td>\n",
       "      <td>0</td>\n",
       "      <td>0</td>\n",
       "      <td>0</td>\n",
       "    </tr>\n",
       "    <tr>\n",
       "      <th>3</th>\n",
       "      <td>0</td>\n",
       "      <td>0</td>\n",
       "      <td>0</td>\n",
       "      <td>0</td>\n",
       "      <td>0</td>\n",
       "      <td>0</td>\n",
       "      <td>0</td>\n",
       "      <td>0</td>\n",
       "      <td>0</td>\n",
       "      <td>0</td>\n",
       "      <td>...</td>\n",
       "      <td>0</td>\n",
       "      <td>0</td>\n",
       "      <td>0</td>\n",
       "      <td>0</td>\n",
       "      <td>0</td>\n",
       "      <td>0</td>\n",
       "      <td>0</td>\n",
       "      <td>0</td>\n",
       "      <td>0</td>\n",
       "      <td>0</td>\n",
       "    </tr>\n",
       "    <tr>\n",
       "      <th>4</th>\n",
       "      <td>0</td>\n",
       "      <td>0</td>\n",
       "      <td>0</td>\n",
       "      <td>0</td>\n",
       "      <td>0</td>\n",
       "      <td>0</td>\n",
       "      <td>0</td>\n",
       "      <td>0</td>\n",
       "      <td>0</td>\n",
       "      <td>0</td>\n",
       "      <td>...</td>\n",
       "      <td>0</td>\n",
       "      <td>0</td>\n",
       "      <td>0</td>\n",
       "      <td>0</td>\n",
       "      <td>0</td>\n",
       "      <td>0</td>\n",
       "      <td>0</td>\n",
       "      <td>0</td>\n",
       "      <td>0</td>\n",
       "      <td>0</td>\n",
       "    </tr>\n",
       "  </tbody>\n",
       "</table>\n",
       "<p>5 rows × 7783 columns</p>\n",
       "</div>"
      ],
      "text/plain": [
       "   cantdo  nichols  own  categories  shd  2price  concentration  bx  alert  \\\n",
       "0       0        0    0           0    0       0              0   0      0   \n",
       "1       0        0    0           0    0       0              0   0      0   \n",
       "2       0        0    0           0    0       0              0   0      0   \n",
       "3       0        0    0           0    0       0              0   0      0   \n",
       "4       0        0    0           0    0       0              0   0      0   \n",
       "\n",
       "   sufficient  ...  offering  psychiatrist  missin  wait  7am  mag  zaher  \\\n",
       "0           0  ...         0             0       0     0    0    0      0   \n",
       "1           0  ...         0             0       0     0    0    0      0   \n",
       "2           0  ...         0             0       0     0    0    0      0   \n",
       "3           0  ...         0             0       0     0    0    0      0   \n",
       "4           0  ...         0             0       0     0    0    0      0   \n",
       "\n",
       "   sway  68866  hallaq  \n",
       "0     0      0       0  \n",
       "1     0      0       0  \n",
       "2     0      0       0  \n",
       "3     0      0       0  \n",
       "4     0      0       0  \n",
       "\n",
       "[5 rows x 7783 columns]"
      ]
     },
     "execution_count": 9,
     "metadata": {},
     "output_type": "execute_result"
    }
   ],
   "source": [
    "word_counts_per_sms = pd.DataFrame(word_counts_per_sms)\n",
    "word_counts_per_sms.head()"
   ]
  },
  {
   "cell_type": "markdown",
   "metadata": {},
   "source": [
    "Above we can see the dictionary we created, converted into a DataFrame. Now, we just need to combine that with the original <code>training_set</code> DataFrame so we have the spam/ham label and the original string (which has been converted to a list). "
   ]
  },
  {
   "cell_type": "code",
   "execution_count": 10,
   "metadata": {},
   "outputs": [
    {
     "data": {
      "text/html": [
       "<div>\n",
       "<style scoped>\n",
       "    .dataframe tbody tr th:only-of-type {\n",
       "        vertical-align: middle;\n",
       "    }\n",
       "\n",
       "    .dataframe tbody tr th {\n",
       "        vertical-align: top;\n",
       "    }\n",
       "\n",
       "    .dataframe thead th {\n",
       "        text-align: right;\n",
       "    }\n",
       "</style>\n",
       "<table border=\"1\" class=\"dataframe\">\n",
       "  <thead>\n",
       "    <tr style=\"text-align: right;\">\n",
       "      <th></th>\n",
       "      <th>Label</th>\n",
       "      <th>SMS</th>\n",
       "      <th>cantdo</th>\n",
       "      <th>nichols</th>\n",
       "      <th>own</th>\n",
       "      <th>categories</th>\n",
       "      <th>shd</th>\n",
       "      <th>2price</th>\n",
       "      <th>concentration</th>\n",
       "      <th>bx</th>\n",
       "      <th>...</th>\n",
       "      <th>offering</th>\n",
       "      <th>psychiatrist</th>\n",
       "      <th>missin</th>\n",
       "      <th>wait</th>\n",
       "      <th>7am</th>\n",
       "      <th>mag</th>\n",
       "      <th>zaher</th>\n",
       "      <th>sway</th>\n",
       "      <th>68866</th>\n",
       "      <th>hallaq</th>\n",
       "    </tr>\n",
       "  </thead>\n",
       "  <tbody>\n",
       "    <tr>\n",
       "      <th>0</th>\n",
       "      <td>ham</td>\n",
       "      <td>[yep, by, the, pretty, sculpture]</td>\n",
       "      <td>0</td>\n",
       "      <td>0</td>\n",
       "      <td>0</td>\n",
       "      <td>0</td>\n",
       "      <td>0</td>\n",
       "      <td>0</td>\n",
       "      <td>0</td>\n",
       "      <td>0</td>\n",
       "      <td>...</td>\n",
       "      <td>0</td>\n",
       "      <td>0</td>\n",
       "      <td>0</td>\n",
       "      <td>0</td>\n",
       "      <td>0</td>\n",
       "      <td>0</td>\n",
       "      <td>0</td>\n",
       "      <td>0</td>\n",
       "      <td>0</td>\n",
       "      <td>0</td>\n",
       "    </tr>\n",
       "    <tr>\n",
       "      <th>1</th>\n",
       "      <td>ham</td>\n",
       "      <td>[yes, princess, are, you, going, to, make, me,...</td>\n",
       "      <td>0</td>\n",
       "      <td>0</td>\n",
       "      <td>0</td>\n",
       "      <td>0</td>\n",
       "      <td>0</td>\n",
       "      <td>0</td>\n",
       "      <td>0</td>\n",
       "      <td>0</td>\n",
       "      <td>...</td>\n",
       "      <td>0</td>\n",
       "      <td>0</td>\n",
       "      <td>0</td>\n",
       "      <td>0</td>\n",
       "      <td>0</td>\n",
       "      <td>0</td>\n",
       "      <td>0</td>\n",
       "      <td>0</td>\n",
       "      <td>0</td>\n",
       "      <td>0</td>\n",
       "    </tr>\n",
       "    <tr>\n",
       "      <th>2</th>\n",
       "      <td>ham</td>\n",
       "      <td>[welp, apparently, he, retired]</td>\n",
       "      <td>0</td>\n",
       "      <td>0</td>\n",
       "      <td>0</td>\n",
       "      <td>0</td>\n",
       "      <td>0</td>\n",
       "      <td>0</td>\n",
       "      <td>0</td>\n",
       "      <td>0</td>\n",
       "      <td>...</td>\n",
       "      <td>0</td>\n",
       "      <td>0</td>\n",
       "      <td>0</td>\n",
       "      <td>0</td>\n",
       "      <td>0</td>\n",
       "      <td>0</td>\n",
       "      <td>0</td>\n",
       "      <td>0</td>\n",
       "      <td>0</td>\n",
       "      <td>0</td>\n",
       "    </tr>\n",
       "    <tr>\n",
       "      <th>3</th>\n",
       "      <td>ham</td>\n",
       "      <td>[havent]</td>\n",
       "      <td>0</td>\n",
       "      <td>0</td>\n",
       "      <td>0</td>\n",
       "      <td>0</td>\n",
       "      <td>0</td>\n",
       "      <td>0</td>\n",
       "      <td>0</td>\n",
       "      <td>0</td>\n",
       "      <td>...</td>\n",
       "      <td>0</td>\n",
       "      <td>0</td>\n",
       "      <td>0</td>\n",
       "      <td>0</td>\n",
       "      <td>0</td>\n",
       "      <td>0</td>\n",
       "      <td>0</td>\n",
       "      <td>0</td>\n",
       "      <td>0</td>\n",
       "      <td>0</td>\n",
       "    </tr>\n",
       "    <tr>\n",
       "      <th>4</th>\n",
       "      <td>ham</td>\n",
       "      <td>[i, forgot, 2, ask, ü, all, smth, there, s, a,...</td>\n",
       "      <td>0</td>\n",
       "      <td>0</td>\n",
       "      <td>0</td>\n",
       "      <td>0</td>\n",
       "      <td>0</td>\n",
       "      <td>0</td>\n",
       "      <td>0</td>\n",
       "      <td>0</td>\n",
       "      <td>...</td>\n",
       "      <td>0</td>\n",
       "      <td>0</td>\n",
       "      <td>0</td>\n",
       "      <td>0</td>\n",
       "      <td>0</td>\n",
       "      <td>0</td>\n",
       "      <td>0</td>\n",
       "      <td>0</td>\n",
       "      <td>0</td>\n",
       "      <td>0</td>\n",
       "    </tr>\n",
       "  </tbody>\n",
       "</table>\n",
       "<p>5 rows × 7785 columns</p>\n",
       "</div>"
      ],
      "text/plain": [
       "  Label                                                SMS  cantdo  nichols  \\\n",
       "0   ham                  [yep, by, the, pretty, sculpture]       0        0   \n",
       "1   ham  [yes, princess, are, you, going, to, make, me,...       0        0   \n",
       "2   ham                    [welp, apparently, he, retired]       0        0   \n",
       "3   ham                                           [havent]       0        0   \n",
       "4   ham  [i, forgot, 2, ask, ü, all, smth, there, s, a,...       0        0   \n",
       "\n",
       "   own  categories  shd  2price  concentration  bx  ...  offering  \\\n",
       "0    0           0    0       0              0   0  ...         0   \n",
       "1    0           0    0       0              0   0  ...         0   \n",
       "2    0           0    0       0              0   0  ...         0   \n",
       "3    0           0    0       0              0   0  ...         0   \n",
       "4    0           0    0       0              0   0  ...         0   \n",
       "\n",
       "   psychiatrist  missin  wait  7am  mag  zaher  sway  68866  hallaq  \n",
       "0             0       0     0    0    0      0     0      0       0  \n",
       "1             0       0     0    0    0      0     0      0       0  \n",
       "2             0       0     0    0    0      0     0      0       0  \n",
       "3             0       0     0    0    0      0     0      0       0  \n",
       "4             0       0     0    0    0      0     0      0       0  \n",
       "\n",
       "[5 rows x 7785 columns]"
      ]
     },
     "execution_count": 10,
     "metadata": {},
     "output_type": "execute_result"
    }
   ],
   "source": [
    "training_set_clean = pd.concat([training_set, word_counts_per_sms], axis=1)\n",
    "training_set_clean.head()"
   ]
  },
  {
   "attachments": {
    "naive%20bayes%202.png": {
     "image/png": "[encoded data removed]"
    },
    "naive%20bayes.png": {
     "image/png": "[encoded data removed]"
    }
   },
   "cell_type": "markdown",
   "metadata": {},
   "source": [
    "## Creating the Spam Filter\n",
    "Now that our data is clean, we can begin creating the spam filter. As mentioned previously, we will use the Naive Bayes algorithm to classify messages as spam or not. Additional information on the Naive Bayes algorithm can be found [here](https://www.kdnuggets.com/2020/06/naive-bayes-algorithm-everything.html).\n",
    "\n",
    "In order to classify new messages, the Naive Bayes algorithm will need to know the probability values of these two equations: \n",
    "<img src=\"attachment:naive%20bayes.png\" width=\"400\"/>  \n",
    "Also, to calculate P(w<sub>i</sub>|Spam) and P(w<sub>i</sub>|Ham) inside the formulas above, recall that we need to use these equations:  \n",
    "<img src=\"attachment:naive%20bayes%202.png\" width=\"400\"/>  \n",
    "\n",
    "## Constant Values\n",
    "Some terms from the above equations will have constant values for every new message. We'll start by calculating these constant values so we won't have to do repeat calculations every time a new message comes in."
   ]
  },
  {
   "cell_type": "code",
   "execution_count": 11,
   "metadata": {},
   "outputs": [],
   "source": [
    "# isolate spam and non-spam messages\n",
    "spam_messages = training_set_clean[training_set_clean['Label'] == 'spam']\n",
    "ham_messages = training_set_clean[training_set_clean['Label'] == 'ham']\n",
    "\n",
    "# P(Spam) and P(Ham)\n",
    "p_spam = len(spam_messages) / len(training_set_clean)\n",
    "p_ham = len(ham_messages) / len(training_set_clean)\n",
    "\n",
    "# N_Spam\n",
    "n_spam = spam_messages['SMS'].apply(len).sum()\n",
    "\n",
    "#N_Ham\n",
    "n_ham = ham_messages['SMS'].apply(len).sum()\n",
    "\n",
    "#N_Vocabulary\n",
    "n_vocabulary = len(vocabulary)\n",
    "\n",
    "# Laplace smoothing\n",
    "alpha = 1"
   ]
  },
  {
   "cell_type": "markdown",
   "metadata": {},
   "source": [
    "## Calculating Parameters\n",
    "We've calculated terms from the above equations that will have constant values for every new message (regardless of the message or each individual word in the message). Now, we'll calculate the other terms from the equation: P(w<sub>i</sub>|Spam) and P(w<sub>i</sub>|Ham). These values will vary depending on the individual words. For instance, P(\"secret\"|Spam) will have a certain probability value, while P(\"cousin\"|Spam) will most likely have a different probability value.  \n",
    "\n",
    "Although both P(w<sub>i</sub>|Spam) and P(w<sub>i</sub>|Ham) vary depending on the word, the probability for each individual word is constant for every new message. We'll use the training set to calculate P(w<sub>i</sub>|Spam) and P(w<sub>i</sub>|Ham) for each individual word in each message and the steps we take to calculate those words we'll be the same. The key detail here is that calculating P(w<sub>i</sub>|Spam) and P(w<sub>i</sub>|Ham) only depends on the training set, and as long as we don't make changes to the training set, they will remain constant.\n",
    "\n",
    "To calculate probability values for P(w<sub>i</sub>|Spam) and P(w<sub>i</sub>|Ham), we'll first create two dictionaries where each key is a unique word from our vocabulary and the value is 0. Then, we'll calculate the values for P(w<sub>i</sub>|Spam) and P(w<sub>i</sub>|Ham) and add them to the dictionaries we just created."
   ]
  },
  {
   "cell_type": "code",
   "execution_count": 12,
   "metadata": {},
   "outputs": [],
   "source": [
    "# create two dictionaries to store parameters \n",
    "spam_dict = {}\n",
    "ham_dict = {}\n",
    "for word in vocabulary:\n",
    "    spam_dict[word] = 0\n",
    "    ham_dict[word] = 0\n",
    "    \n",
    "# calculate parameters and add them to dictionaries    \n",
    "for word in vocabulary:\n",
    "    n_word_given_spam = spam_messages[word].sum()   # spam_messages already defined in a cell above\n",
    "    p_word_given_spam = (n_word_given_spam + alpha) / (n_spam + alpha*n_vocabulary)\n",
    "    spam_dict[word] += p_word_given_spam\n",
    "\n",
    "    n_word_given_ham = ham_messages[word].sum()   # ham_messages already defined in a cell above\n",
    "    p_word_given_ham = (n_word_given_ham + alpha) / (n_ham + alpha*n_vocabulary)\n",
    "    ham_dict[word] += p_word_given_ham"
   ]
  },
  {
   "cell_type": "markdown",
   "metadata": {},
   "source": [
    "## Classifying a Message as Spam\n",
    "Now that we've calculated all the constants and parameters we need, we can start creating the spam filter. The spam filter can be understood as a function that:\n",
    "* Takes in a new message as input\n",
    "* Calculates P(w<sub>1</sub>,w<sub>2</sub>,...w<sub>n</sub>|Spam) and P(w<sub>1</sub>,w<sub>2</sub>,...w<sub>n</sub>|Ham)\n",
    "* Compares the values of P(w<sub>1</sub>,w<sub>2</sub>,...w<sub>n</sub>|Spam) and P(w<sub>1</sub>,w<sub>2</sub>,...w<sub>n</sub>|Ham): \n",
    "  - If P(w<sub>1</sub>,w<sub>2</sub>,...w<sub>n</sub>|Ham) > P(w<sub>1</sub>,w<sub>2</sub>,...w<sub>n</sub>|Spam), then the message is classified as ham.\n",
    "  - If P(w<sub>1</sub>,w<sub>2</sub>,...w<sub>n</sub>|Ham) < P(w<sub>1</sub>,w<sub>2</sub>,...w<sub>n</sub>|Spam), then the message is classified as spam.\n",
    "  - If P(w<sub>1</sub>,w<sub>2</sub>,...w<sub>n</sub>|Ham) = P(w<sub>1</sub>,w<sub>2</sub>,...w<sub>n</sub>|Spam), then the algorithm may request human help."
   ]
  },
  {
   "cell_type": "code",
   "execution_count": 13,
   "metadata": {},
   "outputs": [],
   "source": [
    "# function that will classify as message as spam or ham\n",
    "def classify(message):\n",
    "\n",
    "    message = re.sub('\\W', ' ', message)\n",
    "    message = message.lower()\n",
    "    message = message.split()\n",
    "\n",
    "    p_spam_given_message = p_spam\n",
    "    p_ham_given_message = p_ham\n",
    "    \n",
    "    for word in message:\n",
    "        if word in spam_dict:\n",
    "            p_spam_given_message *= spam_dict[word]\n",
    "        if word in ham_dict:\n",
    "            p_ham_given_message *= ham_dict[word]\n",
    "\n",
    "    print('P(Spam|message):', p_spam_given_message)\n",
    "    print('P(Ham|message):', p_ham_given_message)\n",
    "\n",
    "    if p_ham_given_message > p_spam_given_message:\n",
    "        print('Label: Ham')\n",
    "    elif p_ham_given_message < p_spam_given_message:\n",
    "        print('Label: Spam')\n",
    "    else:\n",
    "        print('Equal proabilities, have a human classify this!')"
   ]
  },
  {
   "cell_type": "code",
   "execution_count": 14,
   "metadata": {},
   "outputs": [
    {
     "name": "stdout",
     "output_type": "stream",
     "text": [
      "P(Spam|message): 1.3481290211300841e-25\n",
      "P(Ham|message): 1.9368049028589875e-27\n",
      "Label: Spam\n"
     ]
    }
   ],
   "source": [
    "# testing function\n",
    "classify('WINNER!! This is the secret code to unlock the money: C3421.')"
   ]
  },
  {
   "cell_type": "code",
   "execution_count": 15,
   "metadata": {},
   "outputs": [
    {
     "name": "stdout",
     "output_type": "stream",
     "text": [
      "P(Spam|message): 2.4372375665888117e-25\n",
      "P(Ham|message): 3.687530435009238e-21\n",
      "Label: Ham\n"
     ]
    }
   ],
   "source": [
    "# testing function\n",
    "classify(\"Sounds good, Tom, then see u there\")"
   ]
  },
  {
   "cell_type": "markdown",
   "metadata": {},
   "source": [
    "## Testing Accuracy of Spam Filter\n",
    "The spam filter seems to be working but now we can apply it to our test dataset to really determine the accuracy."
   ]
  },
  {
   "cell_type": "code",
   "execution_count": 16,
   "metadata": {},
   "outputs": [],
   "source": [
    "# replicating function above but just returning the label\n",
    "def classify_test_set(message):\n",
    "\n",
    "    message = re.sub('\\W', ' ', message)\n",
    "    message = message.lower()\n",
    "    message = message.split()\n",
    "\n",
    "    p_spam_given_message = p_spam\n",
    "    p_ham_given_message = p_ham\n",
    "    \n",
    "    for word in message:\n",
    "        if word in spam_dict:\n",
    "            p_spam_given_message *= spam_dict[word]\n",
    "        if word in ham_dict:\n",
    "            p_ham_given_message *= ham_dict[word]\n",
    "\n",
    "    if p_ham_given_message > p_spam_given_message:\n",
    "        return 'ham'\n",
    "    elif p_ham_given_message < p_spam_given_message:\n",
    "        return 'spam'\n",
    "    else:\n",
    "        return 'Equal proabilities, have a human classify this!'"
   ]
  },
  {
   "cell_type": "code",
   "execution_count": 17,
   "metadata": {},
   "outputs": [],
   "source": [
    "# applying above function to our test dataset, results stored in new column\n",
    "test_set['algo_prediction'] = test_set['SMS'].apply(classify_test_set)"
   ]
  },
  {
   "cell_type": "markdown",
   "metadata": {},
   "source": [
    "We can compare the results from our spam filter to the human categorization by comparing the column we just created to the human label."
   ]
  },
  {
   "cell_type": "code",
   "execution_count": 18,
   "metadata": {
    "scrolled": true
   },
   "outputs": [
    {
     "name": "stdout",
     "output_type": "stream",
     "text": [
      "Percent Correct: 98.74\n"
     ]
    }
   ],
   "source": [
    "# determine the percentage of text messages classified correctly by our spam filter\n",
    "correct = 0\n",
    "total = len(test_set)\n",
    "\n",
    "for row in test_set.iterrows():\n",
    "    algo = row[1]['algo_prediction']\n",
    "    human = row[1]['Label']\n",
    "    \n",
    "    if algo == human:\n",
    "        correct += 1\n",
    "        \n",
    "print('Percent Correct: ' + str(round((correct/total) * 100,2)))"
   ]
  },
  {
   "cell_type": "markdown",
   "metadata": {},
   "source": [
    "We reached our goal of creating a SMS spam filter with over 80% accuracy. Our spam filter classified 98.74% text messages with the correct label."
   ]
  },
  {
   "cell_type": "markdown",
   "metadata": {},
   "source": [
    "# Conclusion\n",
    "In this project we created a filter to classify SMS messages as spam or not spam using the Naive Bayes Algorithm. Our filter has been tested and we are confident in the results with 98.74% accuracy. Moving forward, we can take a look at the messages that were misclassified to see how we can improve our filter."
   ]
  }
 ],
 "metadata": {
  "kernelspec": {
   "display_name": "Python 3",
   "language": "python",
   "name": "python3"
  },
  "language_info": {
   "codemirror_mode": {
    "name": "ipython",
    "version": 3
   },
   "file_extension": ".py",
   "mimetype": "text/x-python",
   "name": "python",
   "nbconvert_exporter": "python",
   "pygments_lexer": "ipython3",
   "version": "3.7.6"
  }
 },
 "nbformat": 4,
 "nbformat_minor": 4
}

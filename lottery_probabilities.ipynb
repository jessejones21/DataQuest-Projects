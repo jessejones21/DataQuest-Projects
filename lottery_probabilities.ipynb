{
 "cells": [
  {
   "cell_type": "markdown",
   "metadata": {},
   "source": [
    "# Mobile App for Discouraging Lottery Addiction\n",
    "\n",
    "A medical institute that aims to prevent and treat gambling addictions is looking to create an app that disinsentivizes lottery addicts by showing them the probability of their chances to win. The institute has a team of engineers that will build the app, but they need us to create the logical core of the app and calculate probabilities.\n",
    "\n",
    "Many people start playing the lottery for fun, but for some this activity turns into a habit which eventually escalates into addiction. Like other compulsive gamblers, lottery addicts soon begin spending their savings or taking out loans, accumulating debts, and eventually engage in desperate behaviors like theft. We are hoping that a more realistic view of how low the chances of winning the lottery actually are will discourage people from playing.\n",
    "\n",
    "For the first version of the app, they want us to focus on the [6/49 lottery](https://en.wikipedia.org/wiki/Lotto_6/49) and build functions that enable users to answer questions like: \n",
    "\n",
    "* What is the probability of winning the big prize with a single ticket?\n",
    "* What is the probability of winning the big prize if we play 40 different tickets (or any other number)?\n",
    "* What is the probability of having at least five (or four, or three, or two) winning numbers on a single ticket?"
   ]
  },
  {
   "cell_type": "code",
   "execution_count": 1,
   "metadata": {},
   "outputs": [],
   "source": [
    "import pandas as pd"
   ]
  },
  {
   "cell_type": "markdown",
   "metadata": {},
   "source": [
    "## Core Functions\n",
    "Our goal is to write code that can enable users to answer probability questions about playing the lottery. So we'll need to calculate repeated probabilities. Let's start by writing two functions that we'll be using often: \n",
    "\n",
    "* <code>factorial()</code> - a function that calculates factorials\n",
    "* <code>combinations()</code> - a function that calculates combinations"
   ]
  },
  {
   "cell_type": "code",
   "execution_count": 2,
   "metadata": {},
   "outputs": [],
   "source": [
    "def factorial(n):\n",
    "    total = 1\n",
    "    for i in range(n,0,-1):\n",
    "        total *= i\n",
    "    \n",
    "    return total\n",
    "\n",
    "def combinations(n, k):\n",
    "    c = factorial(n) / (factorial(k)*factorial(n-k))\n",
    "    \n",
    "    return c"
   ]
  },
  {
   "cell_type": "markdown",
   "metadata": {},
   "source": [
    "## One Ticket Probability\n",
    "For the first version of the app, we want players to be able to calculate the probability of winning the big prize with the various numbers they play on a single ticket. So, we'll start by building a function that calculates the probability of winning for any given ticket.\n",
    "\n",
    "In the 6/49 lottery, six numbers are drawn from a set of 49 numbers that range from 1 to 49. A player wins if the six numbers on their ticket matches all the six numbers drawn.\n",
    "\n",
    "We discussed with the engineering team of the medical institute, and they told us we need to be aware of the following details when we write the function:\n",
    "\n",
    "* Inside the app, the user inputs six different numbers from 1 to 49.\n",
    "* Under the hood, the six numbers will come as a Python list, which will serve as the single input to our function.\n",
    "* The engineering team wants the function to print the probability value in a friendly way — in a way that people without any probability training are able to understand."
   ]
  },
  {
   "cell_type": "code",
   "execution_count": 3,
   "metadata": {},
   "outputs": [],
   "source": [
    "# function determines the proability that the combination of 6 numbers the user has is a winning combination\n",
    "def one_ticket_probability(n_list):\n",
    "    n_combinations = combinations(49, 6)\n",
    "    probability = 1 / n_combinations\n",
    "    percentage = probability * 100\n",
    "    \n",
    "    print('''You have a {:.7f}% chance of winning the lottery with the chosen numbers. \n",
    "Your chances to win are 1 in {:,}'''.format(percentage, n_combinations))"
   ]
  },
  {
   "cell_type": "code",
   "execution_count": 4,
   "metadata": {},
   "outputs": [
    {
     "name": "stdout",
     "output_type": "stream",
     "text": [
      "You have a 0.0000072% chance of winning the lottery with the chosen numbers. \n",
      "Your chances to win are 1 in 13,983,816.0\n"
     ]
    }
   ],
   "source": [
    "# testing the function\n",
    "n = [3, 45, 18, 9, 22, 13]\n",
    "one_ticket_probability(n)"
   ]
  },
  {
   "cell_type": "markdown",
   "metadata": {},
   "source": [
    "## Compare Ticket to Historical Data\n",
    "We want to give users the opportunity to compare their ticket against the historical lottery data in Canada and determine whether they would have ever won by now with that number combination. First we'll check out the historical data, then will build a function to do the comparison.\n",
    "* Data can be downloaded: [here](https://www.kaggle.com/datasets/datascienceai/lottery-dataset)"
   ]
  },
  {
   "cell_type": "code",
   "execution_count": 5,
   "metadata": {
    "scrolled": true
   },
   "outputs": [
    {
     "name": "stdout",
     "output_type": "stream",
     "text": [
      "(3665, 11)\n"
     ]
    },
    {
     "data": {
      "text/html": [
       "<div>\n",
       "<style scoped>\n",
       "    .dataframe tbody tr th:only-of-type {\n",
       "        vertical-align: middle;\n",
       "    }\n",
       "\n",
       "    .dataframe tbody tr th {\n",
       "        vertical-align: top;\n",
       "    }\n",
       "\n",
       "    .dataframe thead th {\n",
       "        text-align: right;\n",
       "    }\n",
       "</style>\n",
       "<table border=\"1\" class=\"dataframe\">\n",
       "  <thead>\n",
       "    <tr style=\"text-align: right;\">\n",
       "      <th></th>\n",
       "      <th>PRODUCT</th>\n",
       "      <th>DRAW NUMBER</th>\n",
       "      <th>SEQUENCE NUMBER</th>\n",
       "      <th>DRAW DATE</th>\n",
       "      <th>NUMBER DRAWN 1</th>\n",
       "      <th>NUMBER DRAWN 2</th>\n",
       "      <th>NUMBER DRAWN 3</th>\n",
       "      <th>NUMBER DRAWN 4</th>\n",
       "      <th>NUMBER DRAWN 5</th>\n",
       "      <th>NUMBER DRAWN 6</th>\n",
       "      <th>BONUS NUMBER</th>\n",
       "    </tr>\n",
       "  </thead>\n",
       "  <tbody>\n",
       "    <tr>\n",
       "      <th>0</th>\n",
       "      <td>649</td>\n",
       "      <td>1</td>\n",
       "      <td>0</td>\n",
       "      <td>6/12/1982</td>\n",
       "      <td>3</td>\n",
       "      <td>11</td>\n",
       "      <td>12</td>\n",
       "      <td>14</td>\n",
       "      <td>41</td>\n",
       "      <td>43</td>\n",
       "      <td>13</td>\n",
       "    </tr>\n",
       "    <tr>\n",
       "      <th>1</th>\n",
       "      <td>649</td>\n",
       "      <td>2</td>\n",
       "      <td>0</td>\n",
       "      <td>6/19/1982</td>\n",
       "      <td>8</td>\n",
       "      <td>33</td>\n",
       "      <td>36</td>\n",
       "      <td>37</td>\n",
       "      <td>39</td>\n",
       "      <td>41</td>\n",
       "      <td>9</td>\n",
       "    </tr>\n",
       "    <tr>\n",
       "      <th>2</th>\n",
       "      <td>649</td>\n",
       "      <td>3</td>\n",
       "      <td>0</td>\n",
       "      <td>6/26/1982</td>\n",
       "      <td>1</td>\n",
       "      <td>6</td>\n",
       "      <td>23</td>\n",
       "      <td>24</td>\n",
       "      <td>27</td>\n",
       "      <td>39</td>\n",
       "      <td>34</td>\n",
       "    </tr>\n",
       "    <tr>\n",
       "      <th>3</th>\n",
       "      <td>649</td>\n",
       "      <td>4</td>\n",
       "      <td>0</td>\n",
       "      <td>7/3/1982</td>\n",
       "      <td>3</td>\n",
       "      <td>9</td>\n",
       "      <td>10</td>\n",
       "      <td>13</td>\n",
       "      <td>20</td>\n",
       "      <td>43</td>\n",
       "      <td>34</td>\n",
       "    </tr>\n",
       "    <tr>\n",
       "      <th>4</th>\n",
       "      <td>649</td>\n",
       "      <td>5</td>\n",
       "      <td>0</td>\n",
       "      <td>7/10/1982</td>\n",
       "      <td>5</td>\n",
       "      <td>14</td>\n",
       "      <td>21</td>\n",
       "      <td>31</td>\n",
       "      <td>34</td>\n",
       "      <td>47</td>\n",
       "      <td>45</td>\n",
       "    </tr>\n",
       "  </tbody>\n",
       "</table>\n",
       "</div>"
      ],
      "text/plain": [
       "   PRODUCT  DRAW NUMBER  SEQUENCE NUMBER  DRAW DATE  NUMBER DRAWN 1  \\\n",
       "0      649            1                0  6/12/1982               3   \n",
       "1      649            2                0  6/19/1982               8   \n",
       "2      649            3                0  6/26/1982               1   \n",
       "3      649            4                0   7/3/1982               3   \n",
       "4      649            5                0  7/10/1982               5   \n",
       "\n",
       "   NUMBER DRAWN 2  NUMBER DRAWN 3  NUMBER DRAWN 4  NUMBER DRAWN 5  \\\n",
       "0              11              12              14              41   \n",
       "1              33              36              37              39   \n",
       "2               6              23              24              27   \n",
       "3               9              10              13              20   \n",
       "4              14              21              31              34   \n",
       "\n",
       "   NUMBER DRAWN 6  BONUS NUMBER  \n",
       "0              43            13  \n",
       "1              41             9  \n",
       "2              39            34  \n",
       "3              43            34  \n",
       "4              47            45  "
      ]
     },
     "execution_count": 5,
     "metadata": {},
     "output_type": "execute_result"
    }
   ],
   "source": [
    "# read in data\n",
    "lottery = pd.read_csv('649.csv')\n",
    "# quick glimpse of data\n",
    "print(lottery.shape)\n",
    "lottery.head()"
   ]
  },
  {
   "cell_type": "markdown",
   "metadata": {},
   "source": [
    "The dataset contains historical data for 3,665 drawings (each row shows data for a single drawing), dating from 1982 to 2018. Each one of the 'NUMBER DRAWN' columns contains 1 of the 6 numbers for the ticket's combination.\n",
    "\n",
    "Now we're going to write a function that will enable users to compare their ticket against the historical lottery data in Canada and determine whether they would have ever won by now. The engineering team told us that we need to be aware of the following details:\n",
    "\n",
    "* Inside the app, the user inputs six different numbers from 1 to 49.\n",
    "* Under the hood, the six numbers will come as a Python list and serve as an input to our function.\n",
    "* The engineering team wants us to write a function that prints:\n",
    " - the number of times the combination selected occurred in the Canada data set; and\n",
    " - the probability of winning the big prize in the next drawing with that combination."
   ]
  },
  {
   "cell_type": "code",
   "execution_count": 6,
   "metadata": {},
   "outputs": [],
   "source": [
    "# extract 6 number combination that was drawn\n",
    "def extract_numbers(row):\n",
    "    c = {\n",
    "            row['NUMBER DRAWN 1'],\n",
    "            row['NUMBER DRAWN 2'],\n",
    "            row['NUMBER DRAWN 3'],\n",
    "            row['NUMBER DRAWN 4'],\n",
    "            row['NUMBER DRAWN 5'],\n",
    "            row['NUMBER DRAWN 6'],\n",
    "    }\n",
    "    return c\n",
    "# check if the combination exists in historical data\n",
    "def check_historical_occurrence(n_list, winning_ns):\n",
    "    n_set = set(n_list)\n",
    "    win_match = sum(winning_ns == n_set)\n",
    "    n_combinations = combinations(49, 6)\n",
    "    probaility_percentage = (1 / n_combinations) * 100\n",
    "    \n",
    "    if win_match == 0:\n",
    "        print('''This combination has never occured.\n",
    "This doesn't mean it's more likely to occur now. You have a {:.7f}% chance of winning in the next drawing with this combination. In other words, you have a 1 in 13,983,816 chances to win.'''.format(probaility_percentage))\n",
    "    \n",
    "    else:\n",
    "        print('''The number of times this combination has been the winning combination is {}. \n",
    "You have a {:.7f}% chance of winning in the next drawing with this combination'''.format(win_match, probaility_percentage))"
   ]
  },
  {
   "cell_type": "code",
   "execution_count": 7,
   "metadata": {},
   "outputs": [
    {
     "name": "stdout",
     "output_type": "stream",
     "text": [
      "This combination has never occured.\n",
      "This doesn't mean it's more likely to occur now. You have a 0.0000072% chance of winning in the next drawing with this combination. In other words, you have a 1 in 13,983,816 chances to win.\n"
     ]
    }
   ],
   "source": [
    "# testing functions\n",
    "winning_ns = lottery.apply(extract_numbers, axis=1) # extract all winning combinations from historical data\n",
    "\n",
    "n_list = [3, 11, 12, 14, 41, 44]\n",
    "check_historical_occurrence(n_list, winning_ns)"
   ]
  },
  {
   "cell_type": "markdown",
   "metadata": {},
   "source": [
    "## Probabilty for Multiple Tickets\n",
    "Lottery addicts usually play more than one ticket on a single drawing, thinking that this might increase their chances of winning significantly. We're going to write a function that will allow the users to calculate the chances of winning for any number of different tickets.\n",
    "\n",
    "We've talked with the engineering team and they gave us the following information:\n",
    "\n",
    "* The user will input the number of different tickets they want to play (without inputting the specific combinations they intend to play).\n",
    "* Our function will see an integer between 1 and 13,983,816 (the maximum number of different tickets).\n",
    "* The function should print information about the probability of winning the big prize depending on the number of different tickets played."
   ]
  },
  {
   "cell_type": "code",
   "execution_count": 8,
   "metadata": {},
   "outputs": [],
   "source": [
    "def multi_ticket_probability(n_tickets):\n",
    "    n_combinations = combinations(49,6)\n",
    "    percentage_probability = (n_tickets / n_combinations) * 100\n",
    "    \n",
    "    print('''With {} ticket(s), your chances of winning the big prize are {:6f}%'''.format(n_tickets, percentage_probability))"
   ]
  },
  {
   "cell_type": "code",
   "execution_count": 9,
   "metadata": {},
   "outputs": [
    {
     "name": "stdout",
     "output_type": "stream",
     "text": [
      "With 6991908 ticket(s), your chances of winning the big prize are 50.000000%\n"
     ]
    }
   ],
   "source": [
    "# testing function\n",
    "multi_ticket_probability(6991908)"
   ]
  },
  {
   "cell_type": "code",
   "execution_count": 10,
   "metadata": {},
   "outputs": [
    {
     "name": "stdout",
     "output_type": "stream",
     "text": [
      "With 5 ticket(s), your chances of winning the big prize are 0.000036%\n"
     ]
    }
   ],
   "source": [
    "# testing function\n",
    "multi_ticket_probability(5)"
   ]
  },
  {
   "cell_type": "markdown",
   "metadata": {},
   "source": [
    "## Less Than 6 Winning Numbers\n",
    "In most 6/49 lotteries there are smaller prizes if a player's ticket match two, three, four, or five of the six numbers drawn. As a consequence, the users might be interested in knowing the probability of having two, three, four, or five winning numbers.\n",
    "\n",
    "These are the engineering details we'll need to be aware of:\n",
    "\n",
    "* Inside the app, the user inputs:\n",
    " - six different numbers from 1 to 49; and\n",
    " - an integer between 2 and 5 that represents the number of winning numbers expected\n",
    "* Our function prints information about the probability of having the inputted number of winning numbers.\n",
    "\n",
    "The function below will calculate the probaility that a player's ticket has the amount of correct numbers specified by the user. If the user inputs 5, the function will output the probability that the ticket has 5 of the 6 numbers from the winning combination. "
   ]
  },
  {
   "cell_type": "code",
   "execution_count": 11,
   "metadata": {},
   "outputs": [],
   "source": [
    "def probability_less_6(n_winning_ns):\n",
    "    combs = combinations(6, n_winning_ns)\n",
    "    successful_outcomes = combs * 43\n",
    "    total_outcomes = combinations(49, 6)\n",
    "    probability_percentage = (successful_outcomes / total_outcomes) * 100\n",
    "    \n",
    "    print('''Your chances of having {} winning numbers with this ticket are {:.6f}%.\n",
    "In other words, you have a 1 in {:,} chances to win.'''.format(n_winning_ns, probability_percentage,\n",
    "                                                               int(combs)))"
   ]
  },
  {
   "cell_type": "code",
   "execution_count": 12,
   "metadata": {},
   "outputs": [
    {
     "name": "stdout",
     "output_type": "stream",
     "text": [
      "Your chances of having 2 winning numbers with this ticket are 0.004612%.\n",
      "In other words, you have a 1 in 15 chances to win.\n",
      "\n",
      "\n",
      "Your chances of having 3 winning numbers with this ticket are 0.006150%.\n",
      "In other words, you have a 1 in 20 chances to win.\n",
      "\n",
      "\n",
      "Your chances of having 4 winning numbers with this ticket are 0.004612%.\n",
      "In other words, you have a 1 in 15 chances to win.\n",
      "\n",
      "\n",
      "Your chances of having 5 winning numbers with this ticket are 0.001845%.\n",
      "In other words, you have a 1 in 6 chances to win.\n",
      "\n",
      "\n"
     ]
    }
   ],
   "source": [
    "# testing function\n",
    "for test in [2,3,4,5]:\n",
    "    probability_less_6(test)\n",
    "    print('\\n')"
   ]
  }
 ],
 "metadata": {
  "kernelspec": {
   "display_name": "Python 3",
   "language": "python",
   "name": "python3"
  },
  "language_info": {
   "codemirror_mode": {
    "name": "ipython",
    "version": 3
   },
   "file_extension": ".py",
   "mimetype": "text/x-python",
   "name": "python",
   "nbconvert_exporter": "python",
   "pygments_lexer": "ipython3",
   "version": "3.7.6"
  }
 },
 "nbformat": 4,
 "nbformat_minor": 4
}
